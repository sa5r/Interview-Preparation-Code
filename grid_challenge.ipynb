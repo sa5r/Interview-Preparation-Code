{
 "cells": [
  {
   "cell_type": "markdown",
   "metadata": {},
   "source": [
    "# Grid Challenge\n",
    "\n",
    "Given a square grid of characters in the range ascii[a-z], rearrange elements of each row alphabetically, ascending. Determine if the columns are also in ascending alphabetical order, top to bottom. Return YES if they are or NO if they are not.\n"
   ]
  },
  {
   "cell_type": "code",
   "execution_count": 10,
   "metadata": {},
   "outputs": [
    {
     "name": "stdout",
     "output_type": "stream",
     "text": [
      "YES\n",
      "YES\n",
      "NO\n"
     ]
    }
   ],
   "source": [
    "def gridChallende(grid):\n",
    "    new_grid = []\n",
    "    for i in range(len(grid)):\n",
    "        grid[i] = sorted(grid[i])\n",
    "        # print( grid[i] )\n",
    "    \n",
    "    # to check read verically and compare with sorted\n",
    "    tst_grid = []\n",
    "    for i in range( len(grid[0]) ):\n",
    "        col = []\n",
    "        for j in range( len(grid) ):\n",
    "            col.append(grid[j][i])\n",
    "        \n",
    "        col_cpy = col[:]\n",
    "        col.sort()\n",
    "        if col != col_cpy:\n",
    "            # print('compare',col, col_cpy)\n",
    "            return 'NO'\n",
    "\n",
    "    return 'YES'\n",
    "\n",
    "grid = ['ebacd', 'fghij', 'olmkn', 'trpqs', 'xywuv'] # YES\n",
    "print( gridChallende(grid) )\n",
    "grid = ['kc', 'iu'] # YES\n",
    "print( gridChallende(grid) )\n",
    "grid = ['uxf', 'vof', 'hmp'] # NO\n",
    "print( gridChallende(grid) )\n"
   ]
  }
 ],
 "metadata": {
  "kernelspec": {
   "display_name": "Python 3 (ipykernel)",
   "language": "python",
   "name": "python3"
  },
  "language_info": {
   "codemirror_mode": {
    "name": "ipython",
    "version": 3
   },
   "file_extension": ".py",
   "mimetype": "text/x-python",
   "name": "python",
   "nbconvert_exporter": "python",
   "pygments_lexer": "ipython3",
   "version": "3.11.4"
  }
 },
 "nbformat": 4,
 "nbformat_minor": 2
}
