{
 "cells": [
  {
   "cell_type": "markdown",
   "id": "8080e938",
   "metadata": {},
   "source": [
    "# Cipher Encryption\n",
    "Julius Caesar protected his confidential information by encrypting it using a cipher. Caesar's cipher shifts each letter by a number of letters. If the shift takes you past the end of the alphabet, just rotate back to the front of the alphabet. In the case of a rotation by 3, w, x, y and z would map to z, a, b and c."
   ]
  },
  {
   "cell_type": "code",
   "execution_count": 1,
   "id": "5b4b79c9",
   "metadata": {},
   "outputs": [],
   "source": [
    "def caesarCipher(s, k):\n",
    "    # Write your code here\n",
    "    output = ''\n",
    "    k = k % 26\n",
    "    for i, c in enumerate(s):\n",
    "        # small case letters\n",
    "        if ord(c) >= 97 and ord(c) <= 122:\n",
    "            diff = 122 - ord(c)\n",
    "            if k > diff:\n",
    "                output += chr(97 + k - diff - 1)\n",
    "            else:\n",
    "                output += chr(ord(c) + k)\n",
    "                \n",
    "        # capital letters\n",
    "        elif ord(c) >= 65 and ord(c) <= 90:\n",
    "            diff = 90 - ord(c)\n",
    "            if k > diff:\n",
    "                output += chr(65 + k - diff - 1)\n",
    "            else:\n",
    "                output += chr(ord(c) + k)\n",
    "        \n",
    "        else:\n",
    "            output += c\n",
    "        \n",
    "    return output"
   ]
  }
 ],
 "metadata": {
  "kernelspec": {
   "display_name": "Python 3 (ipykernel)",
   "language": "python",
   "name": "python3"
  },
  "language_info": {
   "codemirror_mode": {
    "name": "ipython",
    "version": 3
   },
   "file_extension": ".py",
   "mimetype": "text/x-python",
   "name": "python",
   "nbconvert_exporter": "python",
   "pygments_lexer": "ipython3",
   "version": "3.8.15"
  }
 },
 "nbformat": 4,
 "nbformat_minor": 5
}
