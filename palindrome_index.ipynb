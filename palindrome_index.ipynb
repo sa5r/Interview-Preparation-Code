{
 "cells": [
  {
   "cell_type": "markdown",
   "id": "b0eddf05",
   "metadata": {},
   "source": [
    "# Palindrome Index\n"
   ]
  },
  {
   "cell_type": "code",
   "execution_count": 6,
   "id": "d3b72f75",
   "metadata": {},
   "outputs": [
    {
     "data": {
      "text/plain": [
       "5"
      ]
     },
     "execution_count": 6,
     "metadata": {},
     "output_type": "execute_result"
    }
   ],
   "source": [
    "def palindrome_index(s):\n",
    "    \n",
    "    def check_palidrome(ss):\n",
    "        if len(s_new) % 2 == 0:\n",
    "            s_p1 = s_new[:int(len(s_new) / 2)]\n",
    "            s_p2 = s_new[int(len(s_new) / 2):]\n",
    "            \n",
    "        else:    \n",
    "            s_p1 = s_new[:int(len(s_new) / 2)]\n",
    "            s_p2 = s_new[int(len(s_new) / 2) + 1:]\n",
    "        \n",
    "        s_p2 = s_p2[::-1]\n",
    "        if s_p1 == s_p2:\n",
    "            return True\n",
    "        \n",
    "    for i in range(int(len(s) / 2)):\n",
    "        j = len(s) - i - 1\n",
    "        if s[i] != s[j]:\n",
    "            #check after remove any of them\n",
    "            # remove i\n",
    "            s_new = s[:i] + s[i + 1:]\n",
    "            if check_palidrome(s_new) == True:\n",
    "                return i            \n",
    "            \n",
    "            # remove j\n",
    "            if i == 0:\n",
    "                s_new = s[:-1]\n",
    "            else:\n",
    "                s_new = s[:j] + s[j + 1:]\n",
    "            \n",
    "            if check_palidrome(s_new) == True:\n",
    "                return j\n",
    "    \n",
    "    return -1\n",
    "\n",
    "palindrome_index('abcbaz')"
   ]
  },
  {
   "cell_type": "code",
   "execution_count": null,
   "id": "e66c2c00",
   "metadata": {},
   "outputs": [],
   "source": []
  }
 ],
 "metadata": {
  "kernelspec": {
   "display_name": "Python 3 (ipykernel)",
   "language": "python",
   "name": "python3"
  },
  "language_info": {
   "codemirror_mode": {
    "name": "ipython",
    "version": 3
   },
   "file_extension": ".py",
   "mimetype": "text/x-python",
   "name": "python",
   "nbconvert_exporter": "python",
   "pygments_lexer": "ipython3",
   "version": "3.9.15"
  }
 },
 "nbformat": 4,
 "nbformat_minor": 5
}
