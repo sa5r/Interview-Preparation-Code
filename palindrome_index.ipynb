{
 "cells": [
  {
   "attachments": {},
   "cell_type": "markdown",
   "id": "b0eddf05",
   "metadata": {},
   "source": [
    "# Palindrome Index\n",
    "\n",
    "Given a string of lowercase letters in the range ascii[a-z], determine the index of a character that can be removed to make the string a [palindrome](https://en.wikipedia.org/wiki/Palindrome). There may be more than one solution, but any will do. If the word is already a palindrome or there is no solution, return -1. Otherwise, return the index of a character to remove."
   ]
  },
  {
   "cell_type": "code",
   "execution_count": 8,
   "id": "e66c2c00",
   "metadata": {},
   "outputs": [
    {
     "name": "stdout",
     "output_type": "stream",
     "text": [
      "3\n",
      "-1\n",
      "1\n",
      "0\n",
      "-1\n",
      "2\n",
      "-1\n",
      "-1\n",
      "-1\n"
     ]
    }
   ],
   "source": [
    "def palindrome_index(s):\n",
    "    l = len(s)\n",
    "    for i in range( int(l/2) ):\n",
    "        i2 = l - 1 - i\n",
    "        if s[i] != s[i2]:\n",
    "\n",
    "            #check first\n",
    "            ss = s[:i] + s[i + 1:]\n",
    "            if ss == ss[::-1]:\n",
    "                return i\n",
    "\n",
    "            #check second\n",
    "            if i2 == l - 1 and s[:-1] == s[-2::-1]:\n",
    "                return i2\n",
    "            else:\n",
    "                ss = s[s:i2] + s[i2 + 1:]\n",
    "                if ss == ss[::-1]:\n",
    "                    return i2\n",
    "    # if s == s[::-1]:\n",
    "        \n",
    "    return -1\n",
    "\n",
    "# test cases\n",
    "print(palindrome_index('aaab')) # 3\n",
    "print(palindrome_index('abccba')) # -1\n",
    "print(palindrome_index('azbccba')) # 1\n",
    "print(palindrome_index('baa')) # 0\n",
    "print(palindrome_index('aba')) # -1\n",
    "print(palindrome_index('aab')) # 2\n",
    "print(palindrome_index('aaa')) # -1\n",
    "print(palindrome_index('aa')) # -1\n",
    "print(palindrome_index('a')) # -1"
   ]
  },
  {
   "cell_type": "code",
   "execution_count": null,
   "id": "d988a2d6",
   "metadata": {},
   "outputs": [],
   "source": []
  }
 ],
 "metadata": {
  "kernelspec": {
   "display_name": "Python 3 (ipykernel)",
   "language": "python",
   "name": "python3"
  },
  "language_info": {
   "codemirror_mode": {
    "name": "ipython",
    "version": 3
   },
   "file_extension": ".py",
   "mimetype": "text/x-python",
   "name": "python",
   "nbconvert_exporter": "python",
   "pygments_lexer": "ipython3",
   "version": "3.11.4"
  }
 },
 "nbformat": 4,
 "nbformat_minor": 5
}
